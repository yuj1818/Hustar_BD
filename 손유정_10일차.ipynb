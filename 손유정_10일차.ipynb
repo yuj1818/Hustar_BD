{
 "cells": [
  {
   "cell_type": "code",
   "execution_count": 1,
   "id": "shared-trash",
   "metadata": {},
   "outputs": [],
   "source": [
    "import numpy as np\n",
    "import pandas as pd\n",
    "from sklearn.linear_model import LinearRegression\n",
    "from sklearn.metrics import mean_squared_error, r2_score\n",
    "import matplotlib.pyplot as plt\n",
    "from sklearn.preprocessing import scale\n",
    "from sklearn.decomposition import PCA\n",
    "from sklearn.model_selection import cross_val_score"
   ]
  },
  {
   "cell_type": "markdown",
   "id": "permanent-beverage",
   "metadata": {},
   "source": [
    "### 실습 과제 1. Boston_house_small 데이터를 활용한 PCA + regression 실습\n",
    "\n",
    "#### 1) 데이터 불러온 후 train_data : test_data = 7:3 split, random_state=10\n",
    "** 종속변수는 ‘Target', 독립변수는 나머지 변수"
   ]
  },
  {
   "cell_type": "code",
   "execution_count": 2,
   "id": "analyzed-familiar",
   "metadata": {},
   "outputs": [
    {
     "name": "stdout",
     "output_type": "stream",
     "text": [
      "train data :  (42, 13)\n",
      "test data :  (18, 13)\n"
     ]
    }
   ],
   "source": [
    "from sklearn.model_selection import train_test_split\n",
    "\n",
    "df = pd.read_csv('Boston_house_small.csv')\n",
    "\n",
    "Input = df.drop('Target', axis = 1)\n",
    "Output = df.loc[:, 'Target']\n",
    "\n",
    "X_train, X_test, y_train, y_test = train_test_split(Input, Output, test_size = 0.3, random_state = 10)\n",
    "\n",
    "print('train data : ', X_train.shape)\n",
    "print('test data : ', X_test.shape)"
   ]
  },
  {
   "cell_type": "markdown",
   "id": "configured-radiation",
   "metadata": {},
   "source": [
    "#### 2) PCA 수행해서 주성분(principal component) 개수에 따른 mean squared Error 그래프 그리고, principal component 개수에 따른 PCA의 explained_variance_ratio 구하기\n",
    "**cross_val_score 함수 이용해서(cv=5) principal component 5개까지 mean squared error 구하기\n",
    " "
   ]
  },
  {
   "cell_type": "code",
   "execution_count": 18,
   "id": "plain-engagement",
   "metadata": {},
   "outputs": [
    {
     "name": "stdout",
     "output_type": "stream",
     "text": [
      "Explained variance per principal component: [0.4903983  0.10552172 0.08436537 0.07794373 0.06522836 0.05725848\n",
      " 0.04260774 0.02852523 0.01583058 0.01303964 0.01268944 0.00498424\n",
      " 0.00160716]\n"
     ]
    },
    {
     "data": {
      "image/png": "[encoded data removed]",
      "text/plain": [
       "<Figure size 432x288 with 1 Axes>"
      ]
     },
     "metadata": {
      "needs_background": "light"
     },
     "output_type": "display_data"
    }
   ],
   "source": [
    "import warnings\n",
    "warnings.filterwarnings(action='ignore')\n",
    "\n",
    "pca = PCA()\n",
    "mse = []\n",
    "X_train_reduced = pca.fit_transform(scale(X_train))\n",
    "\n",
    "reg = LinearRegression()\n",
    "for i in np.arange(1,6):\n",
    "    score = -1*cross_val_score(reg, X_train_reduced[:,:i], y_train, cv=5, scoring='neg_mean_squared_error').mean()\n",
    "    mse.append(score)\n",
    "\n",
    "num_pc = np.arange(1,6)\n",
    "plt.plot(num_pc, mse)\n",
    "plt.xlabel('Number of Principal Components')\n",
    "plt.ylabel('Target')\n",
    "\n",
    "print('Explained variance per principal component: {}'.format(pca.explained_variance_ratio_))"
   ]
  },
  {
   "cell_type": "markdown",
   "id": "breeding-mouse",
   "metadata": {},
   "source": [
    "#### 3) 가장 작은 mean squared error 가지는 주성분 개수로  PCA 수행하고, regression을 하기. 검증 데이터(test data)에 대한 mean squared error 구하고,  모델의 R^2 구하기"
   ]
  },
  {
   "cell_type": "code",
   "execution_count": 20,
   "id": "soviet-senegal",
   "metadata": {},
   "outputs": [
    {
     "name": "stdout",
     "output_type": "stream",
     "text": [
      "rmse:  6.0355633179031285\n",
      "R^2:  0.7305351279833862\n"
     ]
    }
   ],
   "source": [
    "pca = PCA(n_components = 3)\n",
    "X_train_reduced = pca.fit_transform(scale(X_train))\n",
    "X_test_reduced = pca.transform(scale(X_test))\n",
    "\n",
    "reg = LinearRegression()\n",
    "reg.fit(X_train_reduced, y_train)\n",
    "\n",
    "pred = reg.predict(X_test_reduced)\n",
    "\n",
    "print('rmse: ', np.sqrt(mean_squared_error(y_test, pred)))\n",
    "print('R^2: ', r2_score(y_test, pred))"
   ]
  },
  {
   "cell_type": "markdown",
   "id": "freelance-accreditation",
   "metadata": {},
   "source": [
    "#### 4)  PCA 없이 regression 하기. 검증 데이터(test data)에 대한 mean squared error 구하고,  모델이 R^2 구한 후 PCA를 수행한 결과와 비교하기"
   ]
  },
  {
   "cell_type": "code",
   "execution_count": 21,
   "id": "active-disney",
   "metadata": {},
   "outputs": [
    {
     "name": "stdout",
     "output_type": "stream",
     "text": [
      "rmse:  6.839887639217197\n",
      "R^2:  0.6539295864346192\n"
     ]
    }
   ],
   "source": [
    "reg = LinearRegression()\n",
    "reg.fit(X_train, y_train)\n",
    "\n",
    "pred = reg.predict(X_test)\n",
    "\n",
    "print('rmse: ', np.sqrt(mean_squared_error(y_test, pred)))\n",
    "print('R^2: ', r2_score(y_test, pred))"
   ]
  },
  {
   "cell_type": "markdown",
   "id": "85600e58",
   "metadata": {},
   "source": [
    "- PCA를 수행한 모델이 R^2 값 이 더 높다"
   ]
  },
  {
   "cell_type": "markdown",
   "id": "diagnostic-handy",
   "metadata": {},
   "source": [
    "### 실습 과제 2. Iris 데이터를 활용한 PCA + SVM 실습\n",
    "\n",
    "#### 1) 데이터 불러온 후 train_data : test_data = 7:3 split, random_state=100\n",
    "** 종속변수는 ‘Target', 독립변수는 나머지 변수"
   ]
  },
  {
   "cell_type": "code",
   "execution_count": 23,
   "id": "adaptive-force",
   "metadata": {},
   "outputs": [
    {
     "name": "stdout",
     "output_type": "stream",
     "text": [
      "train data :  (105, 4)\n",
      "test data :  (45, 4)\n"
     ]
    }
   ],
   "source": [
    "df = pd.read_csv('Iris.csv')\n",
    "\n",
    "X = df.drop('Species', axis = 1)\n",
    "y = df.loc[:, 'Species']\n",
    "\n",
    "X_train, X_test, y_train, y_test = train_test_split(X, y, test_size = 0.3, random_state = 100)\n",
    "\n",
    "print('train data : ', X_train.shape)\n",
    "print('test data : ', X_test.shape)"
   ]
  },
  {
   "cell_type": "markdown",
   "id": "temporal-chemical",
   "metadata": {},
   "source": [
    "#### 2) PCA 수행해서 주성분(principal component) 개수에 따른 accuracy그래프 그리기\n",
    "**cross_val_score 함수 이용해서(cv=5) principal component 5개까지 accuracy 구하기"
   ]
  },
  {
   "cell_type": "code",
   "execution_count": 32,
   "id": "religious-investigator",
   "metadata": {},
   "outputs": [
    {
     "data": {
      "text/plain": [
       "Text(0, 0.5, 'accuracy')"
      ]
     },
     "execution_count": 32,
     "metadata": {},
     "output_type": "execute_result"
    },
    {
     "data": {
      "image/png": "[encoded data removed]",
      "text/plain": [
       "<Figure size 432x288 with 1 Axes>"
      ]
     },
     "metadata": {
      "needs_background": "light"
     },
     "output_type": "display_data"
    }
   ],
   "source": [
    "from sklearn import svm\n",
    "\n",
    "pca = PCA()\n",
    "accuracy = []\n",
    "X_train_reduced = pca.fit_transform(scale(X_train))\n",
    "\n",
    "for i in np.arange(1,6):\n",
    "    score = cross_val_score(svm.SVC(), X_train_reduced[:,:i], y_train, cv=5, scoring='accuracy').mean()\n",
    "    accuracy.append(score)\n",
    "\n",
    "num_pc = np.arange(1,6)\n",
    "plt.plot(num_pc, accuracy)\n",
    "plt.xlabel('Number of Principal Components')\n",
    "plt.ylabel('accuracy')"
   ]
  },
  {
   "cell_type": "markdown",
   "id": "adolescent-rover",
   "metadata": {},
   "source": [
    "#### 3) 높은 accuracy 가지는 주성분 개수로 PCA 수행하고, 5-fold 교차 검증으로 SVM의 최적 하이퍼파라미터 구하기. 검증 데이터(test data)에 대한 최적 모델의 accuracy와 confusion matrix 구하기\n",
    "** C: [0.01, 0.1, 0.5, 1, 10, 100], gamma: [1, 0.75, 0.5, 0.25, 0.1, 0.01, 0.001], kernel: ['rbf', 'poly', 'linear']"
   ]
  },
  {
   "cell_type": "code",
   "execution_count": 44,
   "id": "floppy-mercy",
   "metadata": {},
   "outputs": [
    {
     "name": "stdout",
     "output_type": "stream",
     "text": [
      "Best params: {'C': 0.5, 'gamma': 1, 'kernel': 'linear'}\n",
      "accuracy: 0.9333333333333333\n",
      "==============================\n",
      "confusion mat : \n",
      "[[16  0  0]\n",
      " [ 0 11  0]\n",
      " [ 0  3 15]]\n"
     ]
    }
   ],
   "source": [
    "from sklearn.model_selection import GridSearchCV\n",
    "from sklearn import metrics\n",
    "\n",
    "pca = PCA(n_components = 3)\n",
    "\n",
    "X_train_reduced = pca.fit_transform(scale(X_train))\n",
    "X_test_reduced = pca.transform(scale(X_test))\n",
    "\n",
    "param_grid = {'C':[0.01, 0.1, 0.5, 1, 10, 100],\n",
    "              'gamma':[1, 0.75, 0.5, 0.25, 0.1, 0.01, 0.001],\n",
    "              'kernel':['rbf', 'poly', 'linear']}\n",
    "grid = GridSearchCV(svm.SVC(), param_grid, cv=5, scoring='accuracy', return_train_score=True)\n",
    "grid.fit(X_train_reduced, y_train)\n",
    "\n",
    "best_params = grid.best_params_\n",
    "print(f\"Best params: {best_params}\")\n",
    "\n",
    "best_svm = grid.best_estimator_\n",
    "\n",
    "y_pred = best_svm.predict(X_test_reduced)\n",
    "\n",
    "con_mat = metrics.confusion_matrix(y_test, y_pred)\n",
    "acc_lin = metrics.accuracy_score(y_test, y_pred)\n",
    "\n",
    "print('accuracy:', acc_lin)\n",
    "print('='*30)\n",
    "print('confusion mat : ')\n",
    "print(con_mat)"
   ]
  },
  {
   "cell_type": "markdown",
   "id": "classical-shade",
   "metadata": {},
   "source": [
    "#### 4) PCA 없이 최적 하이퍼파라미터로 SVM 모델 학습하기 , 검증 데이터(test data)에 대한 accuracy와 confusion matrix 구하기"
   ]
  },
  {
   "cell_type": "code",
   "execution_count": 45,
   "id": "thrown-queensland",
   "metadata": {},
   "outputs": [
    {
     "name": "stdout",
     "output_type": "stream",
     "text": [
      "accuracy: 1.0\n",
      "==============================\n",
      "confusion mat : \n",
      "[[16  0  0]\n",
      " [ 0 11  0]\n",
      " [ 0  0 18]]\n"
     ]
    }
   ],
   "source": [
    "non_pca_svm = svm.SVC(kernel='linear', C=0.5, gamma=1)\n",
    "non_pca_svm.fit(X_train, y_train)\n",
    "\n",
    "y_pred = non_pca_svm.predict(X_test)\n",
    "\n",
    "con_mat = metrics.confusion_matrix(y_test, y_pred)\n",
    "acc_lin = metrics.accuracy_score(y_test, y_pred)\n",
    "\n",
    "print('accuracy:', acc_lin)\n",
    "print('='*30)\n",
    "print('confusion mat : ')\n",
    "print(con_mat)"
   ]
  }
 ],
 "metadata": {
  "kernelspec": {
   "display_name": "Python 3 (ipykernel)",
   "language": "python",
   "name": "python3"
  },
  "language_info": {
   "codemirror_mode": {
    "name": "ipython",
    "version": 3
   },
   "file_extension": ".py",
   "mimetype": "text/x-python",
   "name": "python",
   "nbconvert_exporter": "python",
   "pygments_lexer": "ipython3",
   "version": "3.9.7"
  }
 },
 "nbformat": 4,
 "nbformat_minor": 5
}
