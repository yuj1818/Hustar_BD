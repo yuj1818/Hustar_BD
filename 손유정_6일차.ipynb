{
 "cells": [
  {
   "cell_type": "code",
   "execution_count": 7,
   "metadata": {
    "pycharm": {
     "name": "#%%\n"
    }
   },
   "outputs": [],
   "source": [
    "import numpy as np\n",
    "import pandas as pd\n",
    "from sklearn import svm\n",
    "from sklearn import metrics"
   ]
  },
  {
   "cell_type": "markdown",
   "metadata": {},
   "source": [
    "### 실습 과제 1. 데이터 불러온 후 NaN 값이 있다면 해당 행 제거하고, train_data : test_data = 7:3 split\n",
    "#### 종속변수는 PKT_Y, 나머지 변수들이 독립변수"
   ]
  },
  {
   "cell_type": "code",
   "execution_count": 8,
   "metadata": {},
   "outputs": [
    {
     "data": {
      "text/html": [
       "<div>\n",
       "<style scoped>\n",
       "    .dataframe tbody tr th:only-of-type {\n",
       "        vertical-align: middle;\n",
       "    }\n",
       "\n",
       "    .dataframe tbody tr th {\n",
       "        vertical-align: top;\n",
       "    }\n",
       "\n",
       "    .dataframe thead th {\n",
       "        text-align: right;\n",
       "    }\n",
       "</style>\n",
       "<table border=\"1\" class=\"dataframe\">\n",
       "  <thead>\n",
       "    <tr style=\"text-align: right;\">\n",
       "      <th></th>\n",
       "      <th>No.</th>\n",
       "      <th>LOT_ID</th>\n",
       "      <th>WF_ID</th>\n",
       "      <th>X_AXIS</th>\n",
       "      <th>Y_AXIS</th>\n",
       "      <th>GRADE_CD</th>\n",
       "      <th>G_A</th>\n",
       "      <th>G_B</th>\n",
       "      <th>G_C</th>\n",
       "      <th>G_D</th>\n",
       "      <th>...</th>\n",
       "      <th>Weight_Bound_L</th>\n",
       "      <th>Weight_Bound_M</th>\n",
       "      <th>Weight_Bound_N</th>\n",
       "      <th>Weight_Bound_O</th>\n",
       "      <th>Weight_Bound_P</th>\n",
       "      <th>Weight_Bound_Q</th>\n",
       "      <th>Weight_Bound_R</th>\n",
       "      <th>Weight_Bound_S</th>\n",
       "      <th>Weight_Bound_T</th>\n",
       "      <th>PKT_Y</th>\n",
       "    </tr>\n",
       "  </thead>\n",
       "  <tbody>\n",
       "    <tr>\n",
       "      <th>0</th>\n",
       "      <td>48159</td>\n",
       "      <td>ABC1236</td>\n",
       "      <td>13</td>\n",
       "      <td>59</td>\n",
       "      <td>32</td>\n",
       "      <td>SQ</td>\n",
       "      <td>0</td>\n",
       "      <td>0</td>\n",
       "      <td>0</td>\n",
       "      <td>0</td>\n",
       "      <td>...</td>\n",
       "      <td>0.0</td>\n",
       "      <td>0.0</td>\n",
       "      <td>0.0</td>\n",
       "      <td>0.0</td>\n",
       "      <td>0.0</td>\n",
       "      <td>0.0</td>\n",
       "      <td>0.000000</td>\n",
       "      <td>0.000000</td>\n",
       "      <td>0.0</td>\n",
       "      <td>1.0</td>\n",
       "    </tr>\n",
       "    <tr>\n",
       "      <th>1</th>\n",
       "      <td>60178</td>\n",
       "      <td>ABC1258</td>\n",
       "      <td>2</td>\n",
       "      <td>45</td>\n",
       "      <td>14</td>\n",
       "      <td>SQ</td>\n",
       "      <td>0</td>\n",
       "      <td>0</td>\n",
       "      <td>0</td>\n",
       "      <td>0</td>\n",
       "      <td>...</td>\n",
       "      <td>0.0</td>\n",
       "      <td>0.0</td>\n",
       "      <td>0.0</td>\n",
       "      <td>0.0</td>\n",
       "      <td>0.0</td>\n",
       "      <td>0.0</td>\n",
       "      <td>0.000000</td>\n",
       "      <td>0.000000</td>\n",
       "      <td>0.0</td>\n",
       "      <td>1.0</td>\n",
       "    </tr>\n",
       "    <tr>\n",
       "      <th>2</th>\n",
       "      <td>60860</td>\n",
       "      <td>ABC1258</td>\n",
       "      <td>15</td>\n",
       "      <td>50</td>\n",
       "      <td>14</td>\n",
       "      <td>SQ</td>\n",
       "      <td>0</td>\n",
       "      <td>0</td>\n",
       "      <td>0</td>\n",
       "      <td>0</td>\n",
       "      <td>...</td>\n",
       "      <td>0.0</td>\n",
       "      <td>0.0</td>\n",
       "      <td>0.0</td>\n",
       "      <td>0.0</td>\n",
       "      <td>0.0</td>\n",
       "      <td>0.0</td>\n",
       "      <td>3.452381</td>\n",
       "      <td>81.583333</td>\n",
       "      <td>0.0</td>\n",
       "      <td>1.0</td>\n",
       "    </tr>\n",
       "    <tr>\n",
       "      <th>3</th>\n",
       "      <td>25012</td>\n",
       "      <td>ABC1236</td>\n",
       "      <td>1</td>\n",
       "      <td>45</td>\n",
       "      <td>13</td>\n",
       "      <td>SQ</td>\n",
       "      <td>0</td>\n",
       "      <td>0</td>\n",
       "      <td>0</td>\n",
       "      <td>0</td>\n",
       "      <td>...</td>\n",
       "      <td>0.0</td>\n",
       "      <td>0.0</td>\n",
       "      <td>0.0</td>\n",
       "      <td>0.0</td>\n",
       "      <td>0.0</td>\n",
       "      <td>0.0</td>\n",
       "      <td>0.000000</td>\n",
       "      <td>0.000000</td>\n",
       "      <td>0.0</td>\n",
       "      <td>1.0</td>\n",
       "    </tr>\n",
       "    <tr>\n",
       "      <th>4</th>\n",
       "      <td>86262</td>\n",
       "      <td>ABC1236</td>\n",
       "      <td>3</td>\n",
       "      <td>51</td>\n",
       "      <td>13</td>\n",
       "      <td>SQ</td>\n",
       "      <td>0</td>\n",
       "      <td>0</td>\n",
       "      <td>0</td>\n",
       "      <td>0</td>\n",
       "      <td>...</td>\n",
       "      <td>0.0</td>\n",
       "      <td>0.0</td>\n",
       "      <td>0.0</td>\n",
       "      <td>0.0</td>\n",
       "      <td>0.0</td>\n",
       "      <td>0.0</td>\n",
       "      <td>0.000000</td>\n",
       "      <td>0.000000</td>\n",
       "      <td>0.0</td>\n",
       "      <td>1.0</td>\n",
       "    </tr>\n",
       "  </tbody>\n",
       "</table>\n",
       "<p>5 rows × 87 columns</p>\n",
       "</div>"
      ],
      "text/plain": [
       "     No.   LOT_ID  WF_ID  X_AXIS  Y_AXIS GRADE_CD  G_A  G_B  G_C  G_D  ...  \\\n",
       "0  48159  ABC1236     13      59      32       SQ    0    0    0    0  ...   \n",
       "1  60178  ABC1258      2      45      14       SQ    0    0    0    0  ...   \n",
       "2  60860  ABC1258     15      50      14       SQ    0    0    0    0  ...   \n",
       "3  25012  ABC1236      1      45      13       SQ    0    0    0    0  ...   \n",
       "4  86262  ABC1236      3      51      13       SQ    0    0    0    0  ...   \n",
       "\n",
       "   Weight_Bound_L  Weight_Bound_M  Weight_Bound_N  Weight_Bound_O  \\\n",
       "0             0.0             0.0             0.0             0.0   \n",
       "1             0.0             0.0             0.0             0.0   \n",
       "2             0.0             0.0             0.0             0.0   \n",
       "3             0.0             0.0             0.0             0.0   \n",
       "4             0.0             0.0             0.0             0.0   \n",
       "\n",
       "   Weight_Bound_P  Weight_Bound_Q  Weight_Bound_R  Weight_Bound_S  \\\n",
       "0             0.0             0.0        0.000000        0.000000   \n",
       "1             0.0             0.0        0.000000        0.000000   \n",
       "2             0.0             0.0        3.452381       81.583333   \n",
       "3             0.0             0.0        0.000000        0.000000   \n",
       "4             0.0             0.0        0.000000        0.000000   \n",
       "\n",
       "   Weight_Bound_T  PKT_Y  \n",
       "0             0.0    1.0  \n",
       "1             0.0    1.0  \n",
       "2             0.0    1.0  \n",
       "3             0.0    1.0  \n",
       "4             0.0    1.0  \n",
       "\n",
       "[5 rows x 87 columns]"
      ]
     },
     "execution_count": 8,
     "metadata": {},
     "output_type": "execute_result"
    }
   ],
   "source": [
    "df = pd.read_csv(\"contest.csv\")\n",
    "df.head()"
   ]
  },
  {
   "cell_type": "code",
   "execution_count": 9,
   "metadata": {},
   "outputs": [
    {
     "name": "stdout",
     "output_type": "stream",
     "text": [
      "No.                 0\n",
      "LOT_ID              0\n",
      "WF_ID               0\n",
      "X_AXIS              0\n",
      "Y_AXIS              0\n",
      "                 ... \n",
      "Weight_Bound_Q      0\n",
      "Weight_Bound_R      0\n",
      "Weight_Bound_S      0\n",
      "Weight_Bound_T      0\n",
      "PKT_Y             530\n",
      "Length: 87, dtype: int64\n"
     ]
    }
   ],
   "source": [
    "print(df.isnull().sum())"
   ]
  },
  {
   "cell_type": "code",
   "execution_count": 10,
   "metadata": {
    "scrolled": true
   },
   "outputs": [
    {
     "name": "stdout",
     "output_type": "stream",
     "text": [
      "No.               0\n",
      "LOT_ID            0\n",
      "WF_ID             0\n",
      "X_AXIS            0\n",
      "Y_AXIS            0\n",
      "                 ..\n",
      "Weight_Bound_Q    0\n",
      "Weight_Bound_R    0\n",
      "Weight_Bound_S    0\n",
      "Weight_Bound_T    0\n",
      "PKT_Y             0\n",
      "Length: 87, dtype: int64\n"
     ]
    }
   ],
   "source": [
    "df = df.dropna()\n",
    "print(df.isnull().sum())"
   ]
  },
  {
   "cell_type": "code",
   "execution_count": 11,
   "metadata": {},
   "outputs": [
    {
     "data": {
      "text/html": [
       "<div>\n",
       "<style scoped>\n",
       "    .dataframe tbody tr th:only-of-type {\n",
       "        vertical-align: middle;\n",
       "    }\n",
       "\n",
       "    .dataframe tbody tr th {\n",
       "        vertical-align: top;\n",
       "    }\n",
       "\n",
       "    .dataframe thead th {\n",
       "        text-align: right;\n",
       "    }\n",
       "</style>\n",
       "<table border=\"1\" class=\"dataframe\">\n",
       "  <thead>\n",
       "    <tr style=\"text-align: right;\">\n",
       "      <th></th>\n",
       "      <th>G_A</th>\n",
       "      <th>G_B</th>\n",
       "      <th>G_C</th>\n",
       "      <th>G_D</th>\n",
       "      <th>G_E</th>\n",
       "      <th>G_F</th>\n",
       "      <th>G_G</th>\n",
       "      <th>G_H</th>\n",
       "      <th>G_I</th>\n",
       "      <th>G_J</th>\n",
       "      <th>...</th>\n",
       "      <th>Weight_Bound_L</th>\n",
       "      <th>Weight_Bound_M</th>\n",
       "      <th>Weight_Bound_N</th>\n",
       "      <th>Weight_Bound_O</th>\n",
       "      <th>Weight_Bound_P</th>\n",
       "      <th>Weight_Bound_Q</th>\n",
       "      <th>Weight_Bound_R</th>\n",
       "      <th>Weight_Bound_S</th>\n",
       "      <th>Weight_Bound_T</th>\n",
       "      <th>PKT_Y</th>\n",
       "    </tr>\n",
       "  </thead>\n",
       "  <tbody>\n",
       "    <tr>\n",
       "      <th>0</th>\n",
       "      <td>0</td>\n",
       "      <td>0</td>\n",
       "      <td>0</td>\n",
       "      <td>0</td>\n",
       "      <td>0</td>\n",
       "      <td>0</td>\n",
       "      <td>0</td>\n",
       "      <td>0.0</td>\n",
       "      <td>0</td>\n",
       "      <td>0</td>\n",
       "      <td>...</td>\n",
       "      <td>0.0</td>\n",
       "      <td>0.0</td>\n",
       "      <td>0.0</td>\n",
       "      <td>0.0</td>\n",
       "      <td>0.0</td>\n",
       "      <td>0.0</td>\n",
       "      <td>0.000000</td>\n",
       "      <td>0.000000</td>\n",
       "      <td>0.0</td>\n",
       "      <td>1.0</td>\n",
       "    </tr>\n",
       "    <tr>\n",
       "      <th>1</th>\n",
       "      <td>0</td>\n",
       "      <td>0</td>\n",
       "      <td>0</td>\n",
       "      <td>0</td>\n",
       "      <td>0</td>\n",
       "      <td>0</td>\n",
       "      <td>0</td>\n",
       "      <td>0.0</td>\n",
       "      <td>2</td>\n",
       "      <td>0</td>\n",
       "      <td>...</td>\n",
       "      <td>0.0</td>\n",
       "      <td>0.0</td>\n",
       "      <td>0.0</td>\n",
       "      <td>0.0</td>\n",
       "      <td>0.0</td>\n",
       "      <td>0.0</td>\n",
       "      <td>0.000000</td>\n",
       "      <td>0.000000</td>\n",
       "      <td>0.0</td>\n",
       "      <td>1.0</td>\n",
       "    </tr>\n",
       "    <tr>\n",
       "      <th>2</th>\n",
       "      <td>0</td>\n",
       "      <td>0</td>\n",
       "      <td>0</td>\n",
       "      <td>0</td>\n",
       "      <td>0</td>\n",
       "      <td>0</td>\n",
       "      <td>0</td>\n",
       "      <td>0.0</td>\n",
       "      <td>0</td>\n",
       "      <td>0</td>\n",
       "      <td>...</td>\n",
       "      <td>0.0</td>\n",
       "      <td>0.0</td>\n",
       "      <td>0.0</td>\n",
       "      <td>0.0</td>\n",
       "      <td>0.0</td>\n",
       "      <td>0.0</td>\n",
       "      <td>3.452381</td>\n",
       "      <td>81.583333</td>\n",
       "      <td>0.0</td>\n",
       "      <td>1.0</td>\n",
       "    </tr>\n",
       "    <tr>\n",
       "      <th>3</th>\n",
       "      <td>0</td>\n",
       "      <td>0</td>\n",
       "      <td>0</td>\n",
       "      <td>0</td>\n",
       "      <td>4</td>\n",
       "      <td>0</td>\n",
       "      <td>0</td>\n",
       "      <td>0.0</td>\n",
       "      <td>0</td>\n",
       "      <td>0</td>\n",
       "      <td>...</td>\n",
       "      <td>0.0</td>\n",
       "      <td>0.0</td>\n",
       "      <td>0.0</td>\n",
       "      <td>0.0</td>\n",
       "      <td>0.0</td>\n",
       "      <td>0.0</td>\n",
       "      <td>0.000000</td>\n",
       "      <td>0.000000</td>\n",
       "      <td>0.0</td>\n",
       "      <td>1.0</td>\n",
       "    </tr>\n",
       "    <tr>\n",
       "      <th>4</th>\n",
       "      <td>0</td>\n",
       "      <td>0</td>\n",
       "      <td>0</td>\n",
       "      <td>0</td>\n",
       "      <td>0</td>\n",
       "      <td>0</td>\n",
       "      <td>0</td>\n",
       "      <td>0.0</td>\n",
       "      <td>0</td>\n",
       "      <td>0</td>\n",
       "      <td>...</td>\n",
       "      <td>0.0</td>\n",
       "      <td>0.0</td>\n",
       "      <td>0.0</td>\n",
       "      <td>0.0</td>\n",
       "      <td>0.0</td>\n",
       "      <td>0.0</td>\n",
       "      <td>0.000000</td>\n",
       "      <td>0.000000</td>\n",
       "      <td>0.0</td>\n",
       "      <td>1.0</td>\n",
       "    </tr>\n",
       "  </tbody>\n",
       "</table>\n",
       "<p>5 rows × 81 columns</p>\n",
       "</div>"
      ],
      "text/plain": [
       "   G_A  G_B  G_C  G_D  G_E  G_F  G_G  G_H  G_I  G_J  ...  Weight_Bound_L  \\\n",
       "0    0    0    0    0    0    0    0  0.0    0    0  ...             0.0   \n",
       "1    0    0    0    0    0    0    0  0.0    2    0  ...             0.0   \n",
       "2    0    0    0    0    0    0    0  0.0    0    0  ...             0.0   \n",
       "3    0    0    0    0    4    0    0  0.0    0    0  ...             0.0   \n",
       "4    0    0    0    0    0    0    0  0.0    0    0  ...             0.0   \n",
       "\n",
       "   Weight_Bound_M  Weight_Bound_N  Weight_Bound_O  Weight_Bound_P  \\\n",
       "0             0.0             0.0             0.0             0.0   \n",
       "1             0.0             0.0             0.0             0.0   \n",
       "2             0.0             0.0             0.0             0.0   \n",
       "3             0.0             0.0             0.0             0.0   \n",
       "4             0.0             0.0             0.0             0.0   \n",
       "\n",
       "   Weight_Bound_Q  Weight_Bound_R  Weight_Bound_S  Weight_Bound_T  PKT_Y  \n",
       "0             0.0        0.000000        0.000000             0.0    1.0  \n",
       "1             0.0        0.000000        0.000000             0.0    1.0  \n",
       "2             0.0        3.452381       81.583333             0.0    1.0  \n",
       "3             0.0        0.000000        0.000000             0.0    1.0  \n",
       "4             0.0        0.000000        0.000000             0.0    1.0  \n",
       "\n",
       "[5 rows x 81 columns]"
      ]
     },
     "execution_count": 11,
     "metadata": {},
     "output_type": "execute_result"
    }
   ],
   "source": [
    "ndf = df.iloc[:,6:]\n",
    "ndf.head()"
   ]
  },
  {
   "cell_type": "code",
   "execution_count": 12,
   "metadata": {},
   "outputs": [],
   "source": [
    "Input = ndf.drop('PKT_Y', axis = 1)\n",
    "Output = ndf.loc[:, 'PKT_Y']"
   ]
  },
  {
   "cell_type": "code",
   "execution_count": 13,
   "metadata": {},
   "outputs": [
    {
     "name": "stdout",
     "output_type": "stream",
     "text": [
      "train data (1379, 80)\n",
      "(591, 80)\n"
     ]
    }
   ],
   "source": [
    "from sklearn.model_selection import train_test_split\n",
    "\n",
    "X_train, X_test, y_train, y_test = train_test_split(Input, Output, test_size = 0.3, random_state = 10)"
   ]
  },
  {
   "cell_type": "markdown",
   "metadata": {},
   "source": [
    "### 실습 과제 2. 선형 커널, 3차항 커널, RBF 커널, 시그모이드 커널로 각각 SVM 모델 구현 후 accuracy, F1 score, confusion matrix, precision, recall (C=1, gamma = 0.1)"
   ]
  },
  {
   "cell_type": "markdown",
   "metadata": {},
   "source": [
    "### RBF"
   ]
  },
  {
   "cell_type": "code",
   "execution_count": 74,
   "metadata": {},
   "outputs": [
    {
     "name": "stdout",
     "output_type": "stream",
     "text": [
      "accuracy: 0.5769881556683587\n",
      "f1 score: 0.6458923512747875\n",
      "==============================\n",
      "confusion mat : \n",
      "[[113 173]\n",
      " [ 77 228]]\n",
      "precision: 0.5685785536159601\n",
      "recall: 0.7475409836065574\n"
     ]
    }
   ],
   "source": [
    "from sklearn import svm\n",
    "from sklearn import metrics\n",
    "\n",
    "svm_rbf = svm.SVC(kernel='rbf', C=1, gamma = 0.1)\n",
    "\n",
    "svm_rbf.fit(X_train, y_train)\n",
    "\n",
    "y_pred = svm_rbf.predict(X_test)\n",
    "\n",
    "con_mat = metrics.confusion_matrix(y_test, y_pred)\n",
    "acc_lin2 = metrics.accuracy_score(y_test, y_pred)\n",
    "f1_lin2 = metrics.f1_score(y_test, y_pred)\n",
    "\n",
    "precision = con_mat[1][1]/(con_mat[1][1]+con_mat[0][1])\n",
    "recall = con_mat[1][1]/(con_mat[1][1]+con_mat[1][0])\n",
    "\n",
    "print('accuracy:', acc_lin2)\n",
    "print('f1 score:', f1_lin2)\n",
    "print('='*30)\n",
    "print('confusion mat : ')\n",
    "print(con_mat)\n",
    "print('precision:',precision)\n",
    "print('recall:', recall)"
   ]
  },
  {
   "cell_type": "markdown",
   "metadata": {},
   "source": [
    "### 3차항"
   ]
  },
  {
   "cell_type": "code",
   "execution_count": 75,
   "metadata": {},
   "outputs": [
    {
     "name": "stdout",
     "output_type": "stream",
     "text": [
      "accuracy: 0.5820642978003384\n",
      "f1 score: 0.5240847784200385\n",
      "==============================\n",
      "confusion mat : \n",
      "[[208  78]\n",
      " [169 136]]\n",
      "precision: 0.6355140186915887\n",
      "recall: 0.4459016393442623\n"
     ]
    }
   ],
   "source": [
    "svm_poly = svm.SVC(kernel = 'poly', degree = 3, C = 1, gamma = 0.1)\n",
    "\n",
    "svm_poly.fit(X_train, y_train)\n",
    "\n",
    "y_pred = svm_poly.predict(X_test)\n",
    "\n",
    "con_mat = metrics.confusion_matrix(y_test, y_pred)\n",
    "acc_lin2 = metrics.accuracy_score(y_test, y_pred)\n",
    "f1_lin2 = metrics.f1_score(y_test, y_pred)\n",
    "\n",
    "precision = con_mat[1][1]/(con_mat[1][1]+con_mat[0][1])\n",
    "recall = con_mat[1][1]/(con_mat[1][1]+con_mat[1][0])\n",
    "\n",
    "print('accuracy:', acc_lin2)\n",
    "print('f1 score:', f1_lin2)\n",
    "print('='*30)\n",
    "print('confusion mat : ')\n",
    "print(con_mat)\n",
    "print('precision:',precision)\n",
    "print('recall:', recall)"
   ]
  },
  {
   "cell_type": "markdown",
   "metadata": {},
   "source": [
    "### 시그모이드"
   ]
  },
  {
   "cell_type": "code",
   "execution_count": 78,
   "metadata": {},
   "outputs": [
    {
     "name": "stdout",
     "output_type": "stream",
     "text": [
      "accuracy: 0.36717428087986465\n",
      "f1 score: 0.3848684210526316\n",
      "==============================\n",
      "confusion mat : \n",
      "[[100 186]\n",
      " [188 117]]\n",
      "precision: 0.38613861386138615\n",
      "recall: 0.3836065573770492\n"
     ]
    }
   ],
   "source": [
    "svm_sig = svm.SVC(kernel = 'sigmoid', C = 1, gamma = 0.1)\n",
    "\n",
    "svm_sig.fit(X_train, y_train)\n",
    "\n",
    "y_pred = svm_sig.predict(X_test)\n",
    "\n",
    "con_mat = metrics.confusion_matrix(y_test, y_pred)\n",
    "acc_lin2 = metrics.accuracy_score(y_test, y_pred)\n",
    "f1_lin2 = metrics.f1_score(y_test, y_pred)\n",
    "\n",
    "precision = con_mat[1][1]/(con_mat[1][1]+con_mat[0][1])\n",
    "recall = con_mat[1][1]/(con_mat[1][1]+con_mat[1][0])\n",
    "\n",
    "print('accuracy:', acc_lin2)\n",
    "print('f1 score:', f1_lin2)\n",
    "print('='*30)\n",
    "print('confusion mat : ')\n",
    "print(con_mat)\n",
    "print('precision:',precision)\n",
    "print('recall:', recall)"
   ]
  },
  {
   "cell_type": "markdown",
   "metadata": {},
   "source": [
    "### 선형"
   ]
  },
  {
   "cell_type": "code",
   "execution_count": 77,
   "metadata": {},
   "outputs": [
    {
     "name": "stdout",
     "output_type": "stream",
     "text": [
      "accuracy: 0.5803722504230119\n",
      "f1 score: 0.4979757085020242\n",
      "==============================\n",
      "confusion mat : \n",
      "[[220  66]\n",
      " [182 123]]\n",
      "precision: 0.6507936507936508\n",
      "recall: 0.40327868852459015\n"
     ]
    }
   ],
   "source": [
    "svm_lin = svm.SVC(kernel = 'poly', degree = 1, C = 1, gamma = 0.1)\n",
    "\n",
    "svm_lin.fit(X_train, y_train)\n",
    "\n",
    "y_pred = svm_lin.predict(X_test)\n",
    "\n",
    "con_mat = metrics.confusion_matrix(y_test, y_pred)\n",
    "acc_lin2 = metrics.accuracy_score(y_test, y_pred)\n",
    "f1_lin2 = metrics.f1_score(y_test, y_pred)\n",
    "\n",
    "precision = con_mat[1][1]/(con_mat[1][1]+con_mat[0][1])\n",
    "recall = con_mat[1][1]/(con_mat[1][1]+con_mat[1][0])\n",
    "\n",
    "print('accuracy:', acc_lin2)\n",
    "print('f1 score:', f1_lin2)\n",
    "print('='*30)\n",
    "print('confusion mat : ')\n",
    "print(con_mat)\n",
    "print('precision:',precision)\n",
    "print('recall:', recall)"
   ]
  },
  {
   "cell_type": "markdown",
   "metadata": {},
   "source": [
    "### 실습 과제 3. 하이퍼 파라미터 C 값(0.01, 0.1, 1, 10)에 따른 RBF 커널을 SVM 모델의 accuracy와 F1 score 변화 관찰"
   ]
  },
  {
   "cell_type": "code",
   "execution_count": 83,
   "metadata": {},
   "outputs": [
    {
     "name": "stdout",
     "output_type": "stream",
     "text": [
      "C: 0.01\n",
      "accuracy: 0.5160744500846024\n",
      "f1 score: 0.6808035714285715\n",
      "==============================\n",
      "C: 0.1\n",
      "accuracy: 0.5465313028764806\n",
      "f1 score: 0.6555269922879178\n",
      "==============================\n",
      "C: 1\n",
      "accuracy: 0.5769881556683587\n",
      "f1 score: 0.6458923512747875\n",
      "==============================\n",
      "C: 10\n",
      "accuracy: 0.5702199661590525\n",
      "f1 score: 0.6520547945205479\n",
      "==============================\n"
     ]
    }
   ],
   "source": [
    "C_list = [0.01, 0.1, 1, 10]\n",
    "\n",
    "for Cv in C_list:\n",
    "    svm_rbf = svm.SVC(kernel='rbf', C = Cv, gamma = 0.1)\n",
    "\n",
    "    svm_rbf.fit(X_train, y_train)\n",
    "\n",
    "    y_pred = svm_rbf.predict(X_test)\n",
    "\n",
    "    acc_lin2 = metrics.accuracy_score(y_test, y_pred)\n",
    "    f1_lin2 = metrics.f1_score(y_test, y_pred)\n",
    "\n",
    "    print('C:', Cv)\n",
    "    print('accuracy:', acc_lin2)\n",
    "    print('f1 score:', f1_lin2)\n",
    "    print('='*30)"
   ]
  },
  {
   "cell_type": "markdown",
   "metadata": {},
   "source": [
    "- C 값이 증가할수록 accuracy가 증가하는 듯하나 C가 1일 때 보다 10일 때 accuracy가 조금 더 낮다는 것을 알 수 있음\n",
    "- C 값이 증가할수록 오류를 허용하지 않으며, 감소할수록 오류를 허용함을 확인할 수 있음"
   ]
  },
  {
   "cell_type": "markdown",
   "metadata": {},
   "source": [
    "### 실습 과제 4. 하이퍼 파라미터 gamma 값(0.005,0.01,0.1, 1)에 따른 RBF 커널을 SVM 모델의 accuracy와 F1 score 변화 관찰"
   ]
  },
  {
   "cell_type": "code",
   "execution_count": 85,
   "metadata": {},
   "outputs": [
    {
     "name": "stdout",
     "output_type": "stream",
     "text": [
      "gamma: 0.005\n",
      "accuracy: 0.6040609137055838\n",
      "f1 score: 0.5894736842105263\n",
      "==============================\n",
      "gamma: 0.01\n",
      "accuracy: 0.6006768189509306\n",
      "f1 score: 0.6143790849673203\n",
      "==============================\n",
      "gamma: 0.1\n",
      "accuracy: 0.5769881556683587\n",
      "f1 score: 0.6458923512747875\n",
      "==============================\n",
      "gamma: 1\n",
      "accuracy: 0.544839255499154\n",
      "f1 score: 0.6699386503067485\n",
      "==============================\n"
     ]
    }
   ],
   "source": [
    "gamma_list = [0.005,0.01,0.1,1]\n",
    "\n",
    "for g in gamma_list:\n",
    "    svm_rbf = svm.SVC(kernel='rbf', C = 1, gamma = g)\n",
    "\n",
    "    svm_rbf.fit(X_train, y_train)\n",
    "\n",
    "    y_pred = svm_rbf.predict(X_test)\n",
    "\n",
    "    acc_lin2 = metrics.accuracy_score(y_test, y_pred)\n",
    "    f1_lin2 = metrics.f1_score(y_test, y_pred)\n",
    "\n",
    "    print('gamma:', g)\n",
    "    print('accuracy:', acc_lin2)\n",
    "    print('f1 score:', f1_lin2)\n",
    "    print('='*30)"
   ]
  },
  {
   "cell_type": "markdown",
   "metadata": {},
   "source": [
    "- gamma값이 증가할수록 정확도는 감소하되 f1 score가 증가하는 것을 알 수 있음\n",
    "- gamma값이 증가할수록 학습 데이터에 의존하여 결정 경계를 만들고 감소할수록 학습 데이터에 의존하지 않고 결정 경계를 직선에 가깝게 만듦을 확인할 수 있음"
   ]
  },
  {
   "cell_type": "markdown",
   "metadata": {},
   "source": [
    "### 실습 과제 5. 하이퍼 파라미터 degree(1,2,3,4,5)에 따른 다항식 커널 SVM 모델 accuracy와 F1 score 변화 관찰"
   ]
  },
  {
   "cell_type": "code",
   "execution_count": 84,
   "metadata": {},
   "outputs": [
    {
     "name": "stdout",
     "output_type": "stream",
     "text": [
      "degree: 1\n",
      "accuracy: 0.5803722504230119\n",
      "f1 score: 0.4979757085020242\n",
      "==============================\n",
      "degree: 2\n",
      "accuracy: 0.5668358714043993\n",
      "f1 score: 0.5133079847908745\n",
      "==============================\n",
      "degree: 3\n",
      "accuracy: 0.5820642978003384\n",
      "f1 score: 0.5240847784200385\n",
      "==============================\n",
      "degree: 4\n",
      "accuracy: 0.5820642978003384\n",
      "f1 score: 0.5330812854442345\n",
      "==============================\n",
      "degree: 5\n",
      "accuracy: 0.583756345177665\n",
      "f1 score: 0.5477941176470589\n",
      "==============================\n"
     ]
    }
   ],
   "source": [
    "degree_list = [1,2,3,4,5]\n",
    "for d in degree_list:\n",
    "    svm_poly = svm.SVC(kernel = 'poly', degree = d, C = 1, gamma = 0.1)\n",
    "\n",
    "    svm_poly.fit(X_train, y_train)\n",
    "\n",
    "    y_pred = svm_poly.predict(X_test)\n",
    "\n",
    "    acc_lin2 = metrics.accuracy_score(y_test, y_pred)\n",
    "    f1_lin2 = metrics.f1_score(y_test, y_pred)\n",
    "    \n",
    "    print('degree:', d)\n",
    "    print('accuracy:', acc_lin2)\n",
    "    print('f1 score:', f1_lin2)\n",
    "    print('='*30)"
   ]
  },
  {
   "cell_type": "markdown",
   "metadata": {},
   "source": [
    "- 차수가 높을수록 정확도의 차이는 크게 없지만 f1 score가 증가하는 것을 알 수 있음\n",
    "- 차수가 높을수록 성능은 높아지나 시간이 오래 걸린다는 것을 확인할 수 있음"
   ]
  }
 ],
 "metadata": {
  "kernelspec": {
   "display_name": "Python 3 (ipykernel)",
   "language": "python",
   "name": "python3"
  },
  "language_info": {
   "codemirror_mode": {
    "name": "ipython",
    "version": 3
   },
   "file_extension": ".py",
   "mimetype": "text/x-python",
   "name": "python",
   "nbconvert_exporter": "python",
   "pygments_lexer": "ipython3",
   "version": "3.9.7"
  }
 },
 "nbformat": 4,
 "nbformat_minor": 4
}
